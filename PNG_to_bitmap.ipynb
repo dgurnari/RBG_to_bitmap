{
 "cells": [
  {
   "cell_type": "code",
   "execution_count": null,
   "id": "91a98df6",
   "metadata": {},
   "outputs": [],
   "source": [
    "import numpy as np\n",
    "import matplotlib.pyplot as plt\n",
    "\n",
    "from PIL import Image, ImageOps"
   ]
  },
  {
   "cell_type": "markdown",
   "id": "549cb288",
   "metadata": {},
   "source": [
    "# load images"
   ]
  },
  {
   "cell_type": "code",
   "execution_count": null,
   "id": "47966ec1",
   "metadata": {},
   "outputs": [],
   "source": [
    "NUMBER_OF_SAMPLES = 4\n",
    "\n",
    "images = []\n",
    "\n",
    "for i in range(NUMBER_OF_SAMPLES):\n",
    "    images.append(Image.open(\"img/banded/banded_{}.png\".format(i)))\n",
    "\n",
    "fig, axs = plt.subplots(1, NUMBER_OF_SAMPLES,\n",
    "                       figsize=(20, 5))\n",
    "\n",
    "for i in range(NUMBER_OF_SAMPLES):\n",
    "    axs[i].imshow(images[i])"
   ]
  },
  {
   "cell_type": "code",
   "execution_count": null,
   "id": "835a1524",
   "metadata": {},
   "outputs": [],
   "source": [
    "type(images[1])"
   ]
  },
  {
   "cell_type": "code",
   "execution_count": null,
   "id": "dbc37c68",
   "metadata": {},
   "outputs": [],
   "source": [
    "np.uint8(images[0]).shape"
   ]
  },
  {
   "cell_type": "code",
   "execution_count": null,
   "id": "4974b728",
   "metadata": {},
   "outputs": [],
   "source": [
    "def img_to_bitmap(img, # a PIL.PngImagePlugin.PngImageFile\n",
    "                  output = 'img.bitmap') :\n",
    "    \n",
    "    # convert the image to a numpy array\n",
    "    np_img = np.uint8(img)\n",
    "    \n",
    "    \n",
    "    with open(output, 'w') as text_file:\n",
    "        # write dimension of the bitmap\n",
    "        text_file.write('{}\\n'.format(len(np_img.shape)))\n",
    "        # write d lines as the numbers of \n",
    "        # top dimensional cubes in each dimensions\n",
    "        for d in np_img.shape:\n",
    "            text_file.write('{}\\n'.format(d))\n",
    "        \n",
    "        # write the filtration of top dimensional cubes\n",
    "        \n",
    "        for j in range(np_img.shape[0]):\n",
    "            for i in range(np_img.shape[1]):\n",
    "                text_file.write('{} {} {}\\n'.format(*[ c for c in np_img[j,i]]))\n",
    "        "
   ]
  },
  {
   "cell_type": "code",
   "execution_count": null,
   "id": "f671f9a0",
   "metadata": {},
   "outputs": [],
   "source": [
    "for i, img in enumerate(images):\n",
    "    img_to_bitmap(img, 'bitmaps/banded_{}.bitmap'.format(i))"
   ]
  },
  {
   "cell_type": "markdown",
   "id": "179b89a8",
   "metadata": {},
   "source": [
    "# add some noise"
   ]
  },
  {
   "cell_type": "code",
   "execution_count": null,
   "id": "5c6fef4a",
   "metadata": {},
   "outputs": [],
   "source": [
    "def add_noise(input_matrix, noise_min = -25, noise_max = +25, p = 0.1, seed=42):\n",
    "    \n",
    "    np.random.seed(seed)\n",
    "\n",
    "    noise_matrix = np.random.randint(low=noise_min, high=noise_max, \n",
    "                                     size=input_matrix.shape, dtype=int)\n",
    "    \n",
    "    # we want to add noise only to p fraction of pixels\n",
    "    sampling_matrix = np.random.uniform(low=0.0, high=1.0, size=input_matrix.shape)\n",
    "    sampling_matrix[sampling_matrix <= p] = 1\n",
    "    sampling_matrix[sampling_matrix < 1] = 0\n",
    "    sampling_matrix = np.int16(sampling_matrix)\n",
    "    \n",
    "    return(np.clip( input_matrix + np.multiply(noise_matrix, sampling_matrix),\n",
    "                    a_min=0, a_max=255))"
   ]
  },
  {
   "cell_type": "code",
   "execution_count": null,
   "id": "5aa38fd4",
   "metadata": {},
   "outputs": [],
   "source": [
    "noisy_img = add_noise(np.uint8(images[0]), seed=42, noise_min=-50, noise_max=50, p=1)"
   ]
  },
  {
   "cell_type": "code",
   "execution_count": null,
   "id": "73684996",
   "metadata": {},
   "outputs": [],
   "source": [
    "plt.imshow(noisy_img)"
   ]
  },
  {
   "cell_type": "code",
   "execution_count": null,
   "id": "a12cee49",
   "metadata": {},
   "outputs": [],
   "source": [
    "img_to_bitmap(noisy_img, 'bitmaps/banded_noisy.bitmap')"
   ]
  },
  {
   "cell_type": "code",
   "execution_count": null,
   "id": "a11d03b1",
   "metadata": {},
   "outputs": [],
   "source": []
  }
 ],
 "metadata": {
  "kernelspec": {
   "display_name": "Python 3 (ipykernel)",
   "language": "python",
   "name": "python3"
  },
  "language_info": {
   "codemirror_mode": {
    "name": "ipython",
    "version": 3
   },
   "file_extension": ".py",
   "mimetype": "text/x-python",
   "name": "python",
   "nbconvert_exporter": "python",
   "pygments_lexer": "ipython3",
   "version": "3.8.10"
  }
 },
 "nbformat": 4,
 "nbformat_minor": 5
}
